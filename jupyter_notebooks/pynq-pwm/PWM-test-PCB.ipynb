{
 "cells": [
  {
   "cell_type": "code",
   "execution_count": null,
   "id": "641cbee1",
   "metadata": {},
   "outputs": [],
   "source": [
    "# PWM test in Programmable Logic (PL)"
   ]
  },
  {
   "cell_type": "code",
   "execution_count": null,
   "id": "645a83b3",
   "metadata": {},
   "outputs": [],
   "source": []
  },
  {
   "cell_type": "code",
   "execution_count": 1,
   "id": "b8f127de",
   "metadata": {},
   "outputs": [
    {
     "name": "stdout",
     "output_type": "stream",
     "text": [
      "/root/jupyter_notebooks/pynq-pwm/send-kr260-pwm-test\r\n"
     ]
    }
   ],
   "source": [
    "!pwd"
   ]
  },
  {
   "cell_type": "code",
   "execution_count": 2,
   "id": "a2b53141",
   "metadata": {},
   "outputs": [
    {
     "name": "stdout",
     "output_type": "stream",
     "text": [
      "design_1_wrapper.bit  design_1_wrapper.hwh  PWM-test-PCB.ipynb\r\n"
     ]
    }
   ],
   "source": [
    "!ls"
   ]
  },
  {
   "cell_type": "code",
   "execution_count": 3,
   "id": "e6bed74b",
   "metadata": {},
   "outputs": [
    {
     "data": {
      "application/javascript": [
       "\n",
       "try {\n",
       "require(['notebook/js/codecell'], function(codecell) {\n",
       "  codecell.CodeCell.options_default.highlight_modes[\n",
       "      'magic_text/x-csrc'] = {'reg':[/^%%microblaze/]};\n",
       "  Jupyter.notebook.events.one('kernel_ready.Kernel', function(){\n",
       "      Jupyter.notebook.get_cells().map(function(cell){\n",
       "          if (cell.cell_type == 'code'){ cell.auto_highlight(); } }) ;\n",
       "  });\n",
       "});\n",
       "} catch (e) {};\n"
      ]
     },
     "metadata": {},
     "output_type": "display_data"
    },
    {
     "data": {
      "application/javascript": [
       "\n",
       "try {\n",
       "require(['notebook/js/codecell'], function(codecell) {\n",
       "  codecell.CodeCell.options_default.highlight_modes[\n",
       "      'magic_text/x-csrc'] = {'reg':[/^%%pybind11/]};\n",
       "  Jupyter.notebook.events.one('kernel_ready.Kernel', function(){\n",
       "      Jupyter.notebook.get_cells().map(function(cell){\n",
       "          if (cell.cell_type == 'code'){ cell.auto_highlight(); } }) ;\n",
       "  });\n",
       "});\n",
       "} catch (e) {};\n"
      ]
     },
     "metadata": {},
     "output_type": "display_data"
    }
   ],
   "source": [
    "from pynq import Overlay\n",
    "from pynq.lib import AxiGPIO\n",
    "\n",
    "ol = Overlay(\"/root/jupyter_notebooks/pynq-pwm/design_1_wrapper.bit\")\n"
   ]
  },
  {
   "cell_type": "code",
   "execution_count": 4,
   "id": "89b6eb59",
   "metadata": {},
   "outputs": [],
   "source": [
    "gpio_0_ip = ol.ip_dict['axi_gpio_0']\n",
    "gpio_out = AxiGPIO(gpio_0_ip).channel1\n",
    "\n",
    "mask = 0xffffffff\n",
    "gpio_out.write(0x1,mask)"
   ]
  },
  {
   "cell_type": "code",
   "execution_count": 5,
   "id": "30951c4b",
   "metadata": {},
   "outputs": [
    {
     "name": "stdout",
     "output_type": "stream",
     "text": [
      "0b1010010110\n",
      "0b1010010110\n"
     ]
    }
   ],
   "source": [
    "\n",
    "# utility functions for bit manipulation\n",
    "def set_bit(value, bit):\n",
    "    return value | (1 << bit)\n",
    "\n",
    "def clear_bit(value, bit):\n",
    "    return value & ~(1 << bit)\n",
    "\n",
    "def get_bit(value, bit):\n",
    "    return (value >> bit) & 1\n",
    "\n",
    "motor_B2 = ol.axi_timer_0\n",
    "motor_B1 = ol.axi_timer_1\n",
    "motor_A2 = ol.axi_timer_2\n",
    "motor_A1 = ol.axi_timer_3\n",
    "\n",
    "# extract register addresses (will be the same for every Axi Timer)\n",
    "TCSR0 = ol.ip_dict['axi_timer_0']['registers']['TCSR0']\n",
    "TCSR1 = ol.ip_dict['axi_timer_0']['registers']['TCSR1']\n",
    "TCSR0_address = TCSR0['address_offset']\n",
    "TCSR1_address = TCSR1['address_offset']\n",
    "TCSR0_register = TCSR0['fields'] # bit_offset for address\n",
    "TCSR1_register = TCSR1['fields']\n",
    "TLR0 = ol.ip_dict['axi_timer_0']['registers']['TLR0']\n",
    "TLR1 = ol.ip_dict['axi_timer_0']['registers']['TLR1']\n",
    "TLR0_address = TLR0['address_offset']\n",
    "TLR1_address = TLR1['address_offset']\n",
    "\n",
    "# create the configuration values for the control register\n",
    "temp_val_0 = 0\n",
    "temp_val_1 = 0\n",
    "\n",
    "# The PWMA0 bit in TCSR0 and PWMB0 bit in TCSR1 must be set to 1 to enable PWM mode.\n",
    "temp_val_0 = set_bit(temp_val_0, TCSR0_register['PWMA0']['bit_offset'])\n",
    "temp_val_1 = set_bit(temp_val_1, TCSR1_register['PWMA1']['bit_offset'])\n",
    "\n",
    "# The GenerateOut signals must be enabled in the TCSR (bit GENT set to 1). The PWM0\n",
    "# signal is generated from the GenerateOut signals of Timer 0 and Timer 1, so these\n",
    "# signals must be enabled in both timer/counters\n",
    "temp_val_0 = set_bit(temp_val_0, TCSR0_register['GENT0']['bit_offset'])\n",
    "temp_val_1 = set_bit(temp_val_1, TCSR1_register['GENT1']['bit_offset'])\n",
    "\n",
    "# The counter can be set to count up or down. UDT\n",
    "temp_val_0 = set_bit(temp_val_0, TCSR0_register['UDT0']['bit_offset'])\n",
    "temp_val_1 = set_bit(temp_val_1, TCSR1_register['UDT1']['bit_offset'])\n",
    "\n",
    "# set Autoreload (ARHT0 = 1)\n",
    "temp_val_0 = set_bit(temp_val_0, TCSR0_register['ARHT0']['bit_offset'])\n",
    "temp_val_1 = set_bit(temp_val_1, TCSR1_register['ARHT1']['bit_offset'])\n",
    "\n",
    "# enable timer (ENT0 = 1)\n",
    "temp_val_0 = set_bit(temp_val_0, TCSR0_register['ENT0']['bit_offset'])\n",
    "temp_val_1 = set_bit(temp_val_1, TCSR1_register['ENT1']['bit_offset'])\n",
    "\n",
    "# here you must see \"0b1010010110\" twice\n",
    "print(bin(temp_val_0))\n",
    "print(bin(temp_val_1))\n",
    "\n"
   ]
  },
  {
   "cell_type": "code",
   "execution_count": 6,
   "id": "52574e65",
   "metadata": {},
   "outputs": [],
   "source": [
    "# B_motor_pwm\n",
    "\n",
    "def set_motor_B_pwm(duty_cycle, direction):\n",
    "    _period_ = 20000  # 50Hz, 20ms\n",
    "    _pulse_ = duty_cycle  # 0-100\n",
    "    period = int((_period_ & 0x0ffff) * 100)\n",
    "    pulse = int((_pulse_ & 0x07f) * period / 100)\n",
    "\n",
    "    print(f\"period 20ms: {period}\")\n",
    "    print(f\"pulse {duty_cycle}%: {pulse}\")\n",
    "    print(f\"direction: {direction}\")\n",
    "\n",
    "    motor_B1.write(TCSR0['address_offset'], temp_val_0)\n",
    "    motor_B1.write(TCSR1['address_offset'], temp_val_1)\n",
    "    motor_B1.write(TLR0['address_offset'], period)\n",
    "\n",
    "    motor_B2.write(TCSR0['address_offset'], temp_val_0)\n",
    "    motor_B2.write(TCSR1['address_offset'], temp_val_1)\n",
    "    motor_B2.write(TLR0['address_offset'], period)\n",
    "\n",
    "    # direction\n",
    "    if direction == 'forward':\n",
    "        motor_B1.write(TLR1['address_offset'], pulse)\n",
    "        motor_B2.write(TLR1['address_offset'], 0)\n",
    "    elif direction == 'reverse':\n",
    "        motor_B1.write(TLR1['address_offset'], 0)\n",
    "        motor_B2.write(TLR1['address_offset'], pulse)\n",
    "    elif direction == 'coast':\n",
    "        motor_B1.write(TLR1['address_offset'], 0)\n",
    "        motor_B2.write(TLR1['address_offset'], 0)\n",
    "    elif direction == 'break':\n",
    "        motor_B1.write(TLR1['address_offset'], 100)\n",
    "        motor_B2.write(TLR1['address_offset'], 100)   \n",
    "    else:\n",
    "        print(\"Invalid direction. Please use 'forward' or 'reverse'or 'coast' or 'break'.\")\n"
   ]
  },
  {
   "cell_type": "code",
   "execution_count": null,
   "id": "22ff862e",
   "metadata": {},
   "outputs": [],
   "source": []
  },
  {
   "cell_type": "code",
   "execution_count": null,
   "id": "9527a7ce",
   "metadata": {},
   "outputs": [],
   "source": []
  },
  {
   "cell_type": "code",
   "execution_count": 7,
   "id": "63348e40",
   "metadata": {},
   "outputs": [
    {
     "name": "stdout",
     "output_type": "stream",
     "text": [
      "period 20ms: 2000000\n",
      "pulse 10%: 200000\n",
      "direction: forward\n",
      "period 20ms: 2000000\n",
      "pulse 50%: 1000000\n",
      "direction: forward\n",
      "period 20ms: 2000000\n",
      "pulse 99%: 1980000\n",
      "direction: forward\n",
      "period 20ms: 2000000\n",
      "pulse 0%: 0\n",
      "direction: coast\n"
     ]
    }
   ],
   "source": [
    "import time\n",
    "\n",
    "# B_motor_forward_test\n",
    "set_motor_B_pwm(10, 'forward')\n",
    "time.sleep(3)\n",
    "set_motor_B_pwm(50, 'forward')\n",
    "time.sleep(3)\n",
    "set_motor_B_pwm(99, 'forward')\n",
    "time.sleep(3)\n",
    "\n",
    "set_motor_B_pwm(0, 'coast')\n"
   ]
  },
  {
   "cell_type": "code",
   "execution_count": 8,
   "id": "54a19e86",
   "metadata": {},
   "outputs": [
    {
     "name": "stdout",
     "output_type": "stream",
     "text": [
      "period 20ms: 2000000\n",
      "pulse 10%: 200000\n",
      "direction: reverse\n",
      "period 20ms: 2000000\n",
      "pulse 50%: 1000000\n",
      "direction: reverse\n",
      "period 20ms: 2000000\n",
      "pulse 99%: 1980000\n",
      "direction: reverse\n",
      "period 20ms: 2000000\n",
      "pulse 0%: 0\n",
      "direction: coast\n"
     ]
    }
   ],
   "source": [
    "# B_motor_reverse_test\n",
    "set_motor_B_pwm(10, 'reverse')\n",
    "time.sleep(3)\n",
    "set_motor_B_pwm(50, 'reverse')\n",
    "time.sleep(3)\n",
    "set_motor_B_pwm(99, 'reverse')\n",
    "time.sleep(3)\n",
    "\n",
    "set_motor_B_pwm(0, 'coast')\n"
   ]
  },
  {
   "cell_type": "code",
   "execution_count": null,
   "id": "67368d58",
   "metadata": {},
   "outputs": [],
   "source": []
  },
  {
   "cell_type": "code",
   "execution_count": 9,
   "id": "49e89bf0",
   "metadata": {},
   "outputs": [],
   "source": [
    "mask = 0xffffffff\n",
    "gpio_out.write(0x0,mask)"
   ]
  },
  {
   "cell_type": "code",
   "execution_count": null,
   "id": "ef92051b",
   "metadata": {},
   "outputs": [],
   "source": []
  }
 ],
 "metadata": {
  "kernelspec": {
   "display_name": "Python 3 (ipykernel)",
   "language": "python",
   "name": "python3"
  },
  "language_info": {
   "codemirror_mode": {
    "name": "ipython",
    "version": 3
   },
   "file_extension": ".py",
   "mimetype": "text/x-python",
   "name": "python",
   "nbconvert_exporter": "python",
   "pygments_lexer": "ipython3",
   "version": "3.10.12"
  }
 },
 "nbformat": 4,
 "nbformat_minor": 5
}
