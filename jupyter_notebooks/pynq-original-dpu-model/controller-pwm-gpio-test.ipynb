{
 "cells": [
  {
   "cell_type": "code",
   "execution_count": null,
   "metadata": {},
   "outputs": [],
   "source": []
  },
  {
   "cell_type": "code",
   "execution_count": 1,
   "metadata": {},
   "outputs": [
    {
     "data": {
      "application/javascript": [
       "\n",
       "try {\n",
       "require(['notebook/js/codecell'], function(codecell) {\n",
       "  codecell.CodeCell.options_default.highlight_modes[\n",
       "      'magic_text/x-csrc'] = {'reg':[/^%%microblaze/]};\n",
       "  Jupyter.notebook.events.one('kernel_ready.Kernel', function(){\n",
       "      Jupyter.notebook.get_cells().map(function(cell){\n",
       "          if (cell.cell_type == 'code'){ cell.auto_highlight(); } }) ;\n",
       "  });\n",
       "});\n",
       "} catch (e) {};\n"
      ]
     },
     "metadata": {},
     "output_type": "display_data"
    },
    {
     "data": {
      "application/javascript": [
       "\n",
       "try {\n",
       "require(['notebook/js/codecell'], function(codecell) {\n",
       "  codecell.CodeCell.options_default.highlight_modes[\n",
       "      'magic_text/x-csrc'] = {'reg':[/^%%pybind11/]};\n",
       "  Jupyter.notebook.events.one('kernel_ready.Kernel', function(){\n",
       "      Jupyter.notebook.get_cells().map(function(cell){\n",
       "          if (cell.cell_type == 'code'){ cell.auto_highlight(); } }) ;\n",
       "  });\n",
       "});\n",
       "} catch (e) {};\n"
      ]
     },
     "metadata": {},
     "output_type": "display_data"
    }
   ],
   "source": [
    "from pynq_dpu import DpuOverlay\n",
    "overlay = DpuOverlay(\"/root/jupyter_notebooks/pynq-original-dpu-model/dpu.bit\")"
   ]
  },
  {
   "cell_type": "code",
   "execution_count": 2,
   "metadata": {},
   "outputs": [],
   "source": [
    "from pynq import Overlay\n",
    "from pynq.lib import AxiGPIO\n",
    "ol = overlay"
   ]
  },
  {
   "cell_type": "code",
   "execution_count": null,
   "metadata": {},
   "outputs": [],
   "source": []
  },
  {
   "cell_type": "code",
   "execution_count": 3,
   "metadata": {},
   "outputs": [],
   "source": [
    "# GPIO_set\n",
    "import time\n",
    "\n",
    "gpio_0_ip = ol.ip_dict['axi_gpio_0']\n",
    "gpio_out = AxiGPIO(gpio_0_ip).channel1\n",
    "\n",
    "mask = 0xffffffff\n",
    "gpio_out.write(0x07,mask) #Blue_led_on + 2*motor_driver_enable"
   ]
  },
  {
   "cell_type": "code",
   "execution_count": 4,
   "metadata": {},
   "outputs": [
    {
     "name": "stdout",
     "output_type": "stream",
     "text": [
      "0b1010010110\n",
      "0b1010010110\n"
     ]
    }
   ],
   "source": [
    "# PWM_set\n",
    "# utility functions for bit manipulation\n",
    "def set_bit(value, bit):\n",
    "    return value | (1 << bit)\n",
    "\n",
    "def clear_bit(value, bit):\n",
    "    return value & ~(1 << bit)\n",
    "\n",
    "def get_bit(value, bit):\n",
    "    return (value >> bit) & 1\n",
    "\n",
    "motor_B2 = ol.axi_timer_0\n",
    "motor_B1 = ol.axi_timer_1\n",
    "motor_A2 = ol.axi_timer_2\n",
    "motor_A1 = ol.axi_timer_3\n",
    "\n",
    "# extract register addresses (will be the same for every Axi Timer)\n",
    "TCSR0 = ol.ip_dict['axi_timer_0']['registers']['TCSR0']\n",
    "TCSR1 = ol.ip_dict['axi_timer_0']['registers']['TCSR1']\n",
    "TCSR0_address = TCSR0['address_offset']\n",
    "TCSR1_address = TCSR1['address_offset']\n",
    "TCSR0_register = TCSR0['fields'] # bit_offset for address\n",
    "TCSR1_register = TCSR1['fields']\n",
    "TLR0 = ol.ip_dict['axi_timer_0']['registers']['TLR0']\n",
    "TLR1 = ol.ip_dict['axi_timer_0']['registers']['TLR1']\n",
    "TLR0_address = TLR0['address_offset']\n",
    "TLR1_address = TLR1['address_offset']\n",
    "\n",
    "# create the configuration values for the control register\n",
    "temp_val_0 = 0\n",
    "temp_val_1 = 0\n",
    "\n",
    "# The PWMA0 bit in TCSR0 and PWMB0 bit in TCSR1 must be set to 1 to enable PWM mode.\n",
    "temp_val_0 = set_bit(temp_val_0, TCSR0_register['PWMA0']['bit_offset'])\n",
    "temp_val_1 = set_bit(temp_val_1, TCSR1_register['PWMA1']['bit_offset'])\n",
    "\n",
    "# The GenerateOut signals must be enabled in the TCSR (bit GENT set to 1). The PWM0\n",
    "# signal is generated from the GenerateOut signals of Timer 0 and Timer 1, so these\n",
    "# signals must be enabled in both timer/counters\n",
    "temp_val_0 = set_bit(temp_val_0, TCSR0_register['GENT0']['bit_offset'])\n",
    "temp_val_1 = set_bit(temp_val_1, TCSR1_register['GENT1']['bit_offset'])\n",
    "\n",
    "# The counter can be set to count up or down. UDT\n",
    "temp_val_0 = set_bit(temp_val_0, TCSR0_register['UDT0']['bit_offset'])\n",
    "temp_val_1 = set_bit(temp_val_1, TCSR1_register['UDT1']['bit_offset'])\n",
    "\n",
    "# set Autoreload (ARHT0 = 1)\n",
    "temp_val_0 = set_bit(temp_val_0, TCSR0_register['ARHT0']['bit_offset'])\n",
    "temp_val_1 = set_bit(temp_val_1, TCSR1_register['ARHT1']['bit_offset'])\n",
    "\n",
    "# enable timer (ENT0 = 1)\n",
    "temp_val_0 = set_bit(temp_val_0, TCSR0_register['ENT0']['bit_offset'])\n",
    "temp_val_1 = set_bit(temp_val_1, TCSR1_register['ENT1']['bit_offset'])\n",
    "\n",
    "# here you must see \"0b1010010110\" twice\n",
    "print(bin(temp_val_0))\n",
    "print(bin(temp_val_1))\n"
   ]
  },
  {
   "cell_type": "code",
   "execution_count": 5,
   "metadata": {},
   "outputs": [],
   "source": [
    "# PWM_A_motor_set\n",
    "\n",
    "def set_motor_A_pwm(duty_cycle, direction):\n",
    "    _period_ = 20000  # 50Hz, 20ms\n",
    "    _pulse_ = duty_cycle  # 0-100\n",
    "    period = int((_period_ & 0x0ffff) * 100)\n",
    "    pulse = int((_pulse_ & 0x07f) * period / 100)\n",
    "\n",
    "    print(f\"period 20ms: {period}\")\n",
    "    print(f\"pulse {duty_cycle}%: {pulse}\")\n",
    "    print(f\"direction: {direction}\")\n",
    "\n",
    "    motor_A1.write(TCSR0['address_offset'], temp_val_0)\n",
    "    motor_A1.write(TCSR1['address_offset'], temp_val_1)\n",
    "    motor_A1.write(TLR0['address_offset'], period)\n",
    "\n",
    "    motor_A2.write(TCSR0['address_offset'], temp_val_0)\n",
    "    motor_A2.write(TCSR1['address_offset'], temp_val_1)\n",
    "    motor_A2.write(TLR0['address_offset'], period)\n",
    "\n",
    "    # direction\n",
    "    if direction == 'forward':\n",
    "        motor_A1.write(TLR1['address_offset'], pulse)\n",
    "        motor_A2.write(TLR1['address_offset'], 0)\n",
    "    elif direction == 'reverse':\n",
    "        motor_A1.write(TLR1['address_offset'], 0)\n",
    "        motor_A2.write(TLR1['address_offset'], pulse)\n",
    "    elif direction == 'coast':\n",
    "        motor_A1.write(TLR1['address_offset'], 0)\n",
    "        motor_A2.write(TLR1['address_offset'], 0)\n",
    "    elif direction == 'break':\n",
    "        motor_A1.write(TLR1['address_offset'], 100)\n",
    "        motor_A2.write(TLR1['address_offset'], 100)   \n",
    "    else:\n",
    "        print(\"Invalid direction. Please use 'forward' or 'reverse'or 'coast' or 'break'.\")"
   ]
  },
  {
   "cell_type": "code",
   "execution_count": 6,
   "metadata": {},
   "outputs": [],
   "source": [
    "# PWM_B_motor_set\n",
    "\n",
    "def set_motor_B_pwm(duty_cycle, direction):\n",
    "    _period_ = 20000  # 50Hz, 20ms\n",
    "    _pulse_ = duty_cycle  # 0-100\n",
    "    period = int((_period_ & 0x0ffff) * 100)\n",
    "    pulse = int((_pulse_ & 0x07f) * period / 100)\n",
    "\n",
    "    print(f\"period 20ms: {period}\")\n",
    "    print(f\"pulse {duty_cycle}%: {pulse}\")\n",
    "    print(f\"direction: {direction}\")\n",
    "\n",
    "    motor_B1.write(TCSR0['address_offset'], temp_val_0)\n",
    "    motor_B1.write(TCSR1['address_offset'], temp_val_1)\n",
    "    motor_B1.write(TLR0['address_offset'], period)\n",
    "\n",
    "    motor_B2.write(TCSR0['address_offset'], temp_val_0)\n",
    "    motor_B2.write(TCSR1['address_offset'], temp_val_1)\n",
    "    motor_B2.write(TLR0['address_offset'], period)\n",
    "\n",
    "    # direction\n",
    "    if direction == 'forward':\n",
    "        motor_B1.write(TLR1['address_offset'], pulse)\n",
    "        motor_B2.write(TLR1['address_offset'], 0)\n",
    "    elif direction == 'reverse':\n",
    "        motor_B1.write(TLR1['address_offset'], 0)\n",
    "        motor_B2.write(TLR1['address_offset'], pulse)\n",
    "    elif direction == 'coast':\n",
    "        motor_B1.write(TLR1['address_offset'], 0)\n",
    "        motor_B2.write(TLR1['address_offset'], 0)\n",
    "    elif direction == 'break':\n",
    "        motor_B1.write(TLR1['address_offset'], 100)\n",
    "        motor_B2.write(TLR1['address_offset'], 100)   \n",
    "    else:\n",
    "        print(\"Invalid direction. Please use 'forward' or 'reverse'or 'coast' or 'break'.\")"
   ]
  },
  {
   "cell_type": "code",
   "execution_count": null,
   "metadata": {},
   "outputs": [],
   "source": []
  },
  {
   "cell_type": "code",
   "execution_count": 7,
   "metadata": {},
   "outputs": [
    {
     "name": "stdout",
     "output_type": "stream",
     "text": [
      "[inputs.GamePad(\"/dev/input/by-id/usb-ELECOM_JC-U4113S_DirectInput_Mode-event-joystick\")]\n"
     ]
    }
   ],
   "source": [
    "from inputs import devices\n",
    "\n",
    "# Retrieve the gamepad device\n",
    "gamepads = devices.gamepads\n",
    "print(gamepads)\n",
    "if not gamepads:\n",
    "    raise ValueError(\"No gamepad found.\")"
   ]
  },
  {
   "cell_type": "code",
   "execution_count": 8,
   "metadata": {},
   "outputs": [],
   "source": [
    "#Left(B)-motor_set\n",
    "def control_motor_based_on_joy_ly(joy_ly):\n",
    "    # Control motor based on joy_ly value divided into 8 segments\n",
    "    if 0 <= joy_ly < 32:  # Segment 1\n",
    "        set_motor_B_pwm(50, 'forward')\n",
    "    elif 32 <= joy_ly < 64:  # Segment 2\n",
    "        set_motor_B_pwm(50, 'forward')\n",
    "    elif 64 <= joy_ly < 96:  # Segment 3\n",
    "        set_motor_B_pwm(10, 'forward')\n",
    "    elif 96 <= joy_ly < 128:  # Segment 4\n",
    "        set_motor_B_pwm(0, 'coast') # Consider this as neutral or coast\n",
    "    elif 128 <= joy_ly < 160:  # Segment 5\n",
    "        set_motor_B_pwm(0, 'coast') # Consider this as neutral or coast\n",
    "    elif 160 <= joy_ly < 192:  # Segment 6\n",
    "        set_motor_B_pwm(10, 'reverse')\n",
    "    elif 192 <= joy_ly < 224:  # Segment 7\n",
    "        set_motor_B_pwm(50, 'reverse')\n",
    "    elif 224 <= joy_ly <= 255:  # Segment 8\n",
    "        set_motor_B_pwm(50, 'reverse')"
   ]
  },
  {
   "cell_type": "code",
   "execution_count": 9,
   "metadata": {},
   "outputs": [],
   "source": [
    "#Right(A)-motor_set\n",
    "def control_motor_based_on_joy_ry(joy_ry):\n",
    "    # Control motor based on joy_ly value divided into 8 segments\n",
    "    if 0 <= joy_ry < 32:  # Segment 1\n",
    "        set_motor_A_pwm(50, 'forward')\n",
    "    elif 32 <= joy_ry < 64:  # Segment 2\n",
    "        set_motor_A_pwm(50, 'forward')\n",
    "    elif 64 <= joy_ry < 96:  # Segment 3\n",
    "        set_motor_A_pwm(10, 'forward')\n",
    "    elif 96 <= joy_ry < 128:  # Segment 4\n",
    "        set_motor_A_pwm(0, 'coast') # Consider this as neutral or coast\n",
    "    elif 128 <= joy_ry < 160:  # Segment 5\n",
    "        set_motor_A_pwm(0, 'coast') # Consider this as neutral or coast\n",
    "    elif 160 <= joy_ry < 192:  # Segment 6\n",
    "        set_motor_A_pwm(10, 'reverse')\n",
    "    elif 192 <= joy_ry < 224:  # Segment 7\n",
    "        set_motor_A_pwm(50, 'reverse')\n",
    "    elif 224 <= joy_ry <= 255:  # Segment 8\n",
    "        set_motor_A_pwm(50, 'reverse')"
   ]
  },
  {
   "cell_type": "code",
   "execution_count": 10,
   "metadata": {},
   "outputs": [],
   "source": [
    "def control_motor_based_on_arm_f(h_time):\n",
    "    gpio_out.write(0x27,mask) #arm_forward\n",
    "    time.sleep(h_time)  # Wait\n",
    "    gpio_out.write(0x07,mask) #arm_free"
   ]
  },
  {
   "cell_type": "code",
   "execution_count": 11,
   "metadata": {},
   "outputs": [],
   "source": [
    "def control_motor_based_on_arm_r(h_time):\n",
    "    gpio_out.write(0x47,mask) #arm_reverse\n",
    "    time.sleep(h_time)  # Wait\n",
    "    gpio_out.write(0x07,mask) #arm_free"
   ]
  },
  {
   "cell_type": "code",
   "execution_count": null,
   "metadata": {},
   "outputs": [
    {
     "name": "stdout",
     "output_type": "stream",
     "text": [
      "589830\n",
      "MSC_SCAN\n",
      "1\n",
      "BTN_Z\n",
      "0\n",
      "SYN_REPORT\n",
      "589830\n",
      "MSC_SCAN\n",
      "0\n",
      "BTN_Z\n",
      "0\n",
      "SYN_REPORT\n",
      "589830\n",
      "MSC_SCAN\n",
      "1\n",
      "BTN_Z\n",
      "0\n",
      "SYN_REPORT\n",
      "589830\n",
      "MSC_SCAN\n",
      "0\n",
      "BTN_Z\n",
      "0\n",
      "SYN_REPORT\n",
      "589829\n",
      "MSC_SCAN\n",
      "1\n",
      "BTN_WEST\n",
      "0\n",
      "SYN_REPORT\n",
      "589829\n",
      "MSC_SCAN\n",
      "0\n",
      "BTN_WEST\n",
      "0\n",
      "SYN_REPORT\n"
     ]
    }
   ],
   "source": [
    "from inputs import get_gamepad\n",
    "\n",
    "# Loop to monitor joystick input and control the motor based on it\n",
    "try:\n",
    "    while True:\n",
    "        events = get_gamepad()\n",
    "        for event in events:\n",
    "            print(event.state)\n",
    "            print(event.code)\n",
    "            if event.ev_type == 'Absolute' and event.code == 'ABS_Y':  #Left(B)-motor\n",
    "                print(event.state)\n",
    "                print(event.code)\n",
    "                joy_ly = int(event.state)\n",
    "                control_motor_based_on_joy_ly(joy_ly)\n",
    "            elif  event.ev_type == 'Absolute' and event.code == 'ABS_Z': #Right(A)-motor\n",
    "                print(event.state)\n",
    "                print(event.code)\n",
    "                joy_ry = int(event.state)\n",
    "                control_motor_based_on_joy_ry(joy_ry)\n",
    "            elif  event.code == 'BTN_C':\n",
    "                print(event.code)\n",
    "                control_motor_based_on_arm_f(0.2)\n",
    "            elif  event.code == 'BTN_EAST':\n",
    "                print(event.code)\n",
    "                control_motor_based_on_arm_r(0.2)\n",
    "                \n",
    "except KeyboardInterrupt:\n",
    "    gpio_out.write(0x00,mask) #Blue_led_off + 2*motor_driver_disenable\n",
    "    print(\"Exiting program.\")"
   ]
  },
  {
   "cell_type": "code",
   "execution_count": null,
   "metadata": {},
   "outputs": [],
   "source": []
  },
  {
   "cell_type": "code",
   "execution_count": null,
   "metadata": {},
   "outputs": [],
   "source": []
  },
  {
   "cell_type": "code",
   "execution_count": null,
   "metadata": {},
   "outputs": [],
   "source": []
  }
 ],
 "metadata": {
  "kernelspec": {
   "display_name": "Python 3 (ipykernel)",
   "language": "python",
   "name": "python3"
  },
  "language_info": {
   "codemirror_mode": {
    "name": "ipython",
    "version": 3
   },
   "file_extension": ".py",
   "mimetype": "text/x-python",
   "name": "python",
   "nbconvert_exporter": "python",
   "pygments_lexer": "ipython3",
   "version": "3.10.12"
  }
 },
 "nbformat": 4,
 "nbformat_minor": 4
}
