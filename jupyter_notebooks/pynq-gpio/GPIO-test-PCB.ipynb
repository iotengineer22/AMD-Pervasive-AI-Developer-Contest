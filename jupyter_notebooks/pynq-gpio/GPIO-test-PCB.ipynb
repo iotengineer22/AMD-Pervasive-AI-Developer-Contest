{
 "cells": [
  {
   "cell_type": "code",
   "execution_count": null,
   "id": "19eb1479",
   "metadata": {},
   "outputs": [],
   "source": [
    "# GPIO test in Programmable Logic (PL)"
   ]
  },
  {
   "cell_type": "code",
   "execution_count": null,
   "id": "93211468",
   "metadata": {},
   "outputs": [],
   "source": []
  },
  {
   "cell_type": "code",
   "execution_count": 1,
   "id": "b8f127de",
   "metadata": {},
   "outputs": [
    {
     "name": "stdout",
     "output_type": "stream",
     "text": [
      "/root/jupyter_notebooks/pynq-gpio\r\n"
     ]
    }
   ],
   "source": [
    "!pwd"
   ]
  },
  {
   "cell_type": "code",
   "execution_count": 2,
   "id": "a2b53141",
   "metadata": {},
   "outputs": [
    {
     "name": "stdout",
     "output_type": "stream",
     "text": [
      "design_1_wrapper.bit  design_1_wrapper.hwh  GPIO-test-PCB.ipynb\r\n"
     ]
    }
   ],
   "source": [
    "!ls"
   ]
  },
  {
   "cell_type": "code",
   "execution_count": null,
   "id": "1b2b0b22",
   "metadata": {},
   "outputs": [],
   "source": []
  },
  {
   "cell_type": "code",
   "execution_count": 3,
   "id": "9527a7ce",
   "metadata": {},
   "outputs": [
    {
     "data": {
      "application/javascript": [
       "\n",
       "try {\n",
       "require(['notebook/js/codecell'], function(codecell) {\n",
       "  codecell.CodeCell.options_default.highlight_modes[\n",
       "      'magic_text/x-csrc'] = {'reg':[/^%%microblaze/]};\n",
       "  Jupyter.notebook.events.one('kernel_ready.Kernel', function(){\n",
       "      Jupyter.notebook.get_cells().map(function(cell){\n",
       "          if (cell.cell_type == 'code'){ cell.auto_highlight(); } }) ;\n",
       "  });\n",
       "});\n",
       "} catch (e) {};\n"
      ]
     },
     "metadata": {},
     "output_type": "display_data"
    },
    {
     "data": {
      "application/javascript": [
       "\n",
       "try {\n",
       "require(['notebook/js/codecell'], function(codecell) {\n",
       "  codecell.CodeCell.options_default.highlight_modes[\n",
       "      'magic_text/x-csrc'] = {'reg':[/^%%pybind11/]};\n",
       "  Jupyter.notebook.events.one('kernel_ready.Kernel', function(){\n",
       "      Jupyter.notebook.get_cells().map(function(cell){\n",
       "          if (cell.cell_type == 'code'){ cell.auto_highlight(); } }) ;\n",
       "  });\n",
       "});\n",
       "} catch (e) {};\n"
      ]
     },
     "metadata": {},
     "output_type": "display_data"
    }
   ],
   "source": [
    "from pynq import Overlay\n",
    "from pynq.lib import AxiGPIO\n",
    "ol = Overlay(\"/root/jupyter_notebooks/pynq-gpio/design_1_wrapper.bit\")\n",
    "\n",
    "gpio_0_ip = ol.ip_dict['axi_gpio_0']\n",
    "gpio_1_ip = ol.ip_dict['axi_gpio_1']\n",
    "gpio_out = AxiGPIO(gpio_0_ip).channel1\n",
    "gpio_in = AxiGPIO(gpio_1_ip).channel1\n"
   ]
  },
  {
   "cell_type": "code",
   "execution_count": 4,
   "id": "08b1c4c9",
   "metadata": {},
   "outputs": [],
   "source": [
    "mask = 0xffffffff\n",
    "gpio_out.write(0x7,mask)"
   ]
  },
  {
   "cell_type": "code",
   "execution_count": 5,
   "id": "e22e1b8b",
   "metadata": {},
   "outputs": [],
   "source": [
    "mask = 0xffffffff\n",
    "gpio_out.write(0x6,mask)"
   ]
  },
  {
   "cell_type": "code",
   "execution_count": 6,
   "id": "0c9a7d3f",
   "metadata": {},
   "outputs": [],
   "source": [
    "mask = 0xffffffff\n",
    "gpio_out.write(0x5,mask)"
   ]
  },
  {
   "cell_type": "code",
   "execution_count": 7,
   "id": "1381d23b",
   "metadata": {},
   "outputs": [],
   "source": [
    "mask = 0xffffffff\n",
    "gpio_out.write(0x4,mask)"
   ]
  },
  {
   "cell_type": "code",
   "execution_count": 8,
   "id": "522d648f",
   "metadata": {},
   "outputs": [],
   "source": [
    "mask = 0xffffffff\n",
    "gpio_out.write(0x3,mask)"
   ]
  },
  {
   "cell_type": "code",
   "execution_count": 9,
   "id": "aece976b",
   "metadata": {},
   "outputs": [],
   "source": [
    "mask = 0xffffffff\n",
    "gpio_out.write(0x2,mask)"
   ]
  },
  {
   "cell_type": "code",
   "execution_count": 10,
   "id": "a5cb3c41",
   "metadata": {},
   "outputs": [],
   "source": [
    "mask = 0xffffffff\n",
    "gpio_out.write(0x1,mask)"
   ]
  },
  {
   "cell_type": "code",
   "execution_count": 11,
   "id": "14998650",
   "metadata": {},
   "outputs": [],
   "source": [
    "mask = 0xffffffff\n",
    "gpio_out.write(0x0,mask)"
   ]
  },
  {
   "cell_type": "code",
   "execution_count": null,
   "id": "376c4b61",
   "metadata": {},
   "outputs": [],
   "source": []
  },
  {
   "cell_type": "code",
   "execution_count": 12,
   "id": "681ca67e",
   "metadata": {},
   "outputs": [
    {
     "data": {
      "text/plain": [
       "0"
      ]
     },
     "execution_count": 12,
     "metadata": {},
     "output_type": "execute_result"
    }
   ],
   "source": [
    "gpio_in.read()"
   ]
  },
  {
   "cell_type": "code",
   "execution_count": 13,
   "id": "acb322e3",
   "metadata": {},
   "outputs": [
    {
     "data": {
      "text/plain": [
       "1"
      ]
     },
     "execution_count": 13,
     "metadata": {},
     "output_type": "execute_result"
    }
   ],
   "source": [
    "gpio_in.read()"
   ]
  },
  {
   "cell_type": "code",
   "execution_count": null,
   "id": "49e89bf0",
   "metadata": {},
   "outputs": [],
   "source": []
  },
  {
   "cell_type": "code",
   "execution_count": 14,
   "id": "244a84cc",
   "metadata": {},
   "outputs": [],
   "source": [
    "import time\n",
    "\n",
    "mask = 0xffffffff\n",
    "for i in range(3):\n",
    "    for num in range(8):\n",
    "        gpio_out.write(num,mask)\n",
    "        time.sleep(1)"
   ]
  },
  {
   "cell_type": "code",
   "execution_count": null,
   "id": "ef92051b",
   "metadata": {},
   "outputs": [],
   "source": []
  }
 ],
 "metadata": {
  "kernelspec": {
   "display_name": "Python 3 (ipykernel)",
   "language": "python",
   "name": "python3"
  },
  "language_info": {
   "codemirror_mode": {
    "name": "ipython",
    "version": 3
   },
   "file_extension": ".py",
   "mimetype": "text/x-python",
   "name": "python",
   "nbconvert_exporter": "python",
   "pygments_lexer": "ipython3",
   "version": "3.10.12"
  }
 },
 "nbformat": 4,
 "nbformat_minor": 5
}
